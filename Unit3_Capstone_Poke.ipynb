{
 "cells": [
  {
   "cell_type": "markdown",
   "metadata": {},
   "source": [
    "# Catch Them All"
   ]
  },
  {
   "cell_type": "code",
   "execution_count": 1,
   "metadata": {},
   "outputs": [],
   "source": [
    "import pandas as pd\n",
    "import numpy as np\n",
    "import matplotlib.pyplot as plt\n",
    "from scipy import stats\n",
    "import math\n",
    "%matplotlib inline\n",
    "from sklearn import preprocessing\n",
    "import statsmodels.formula.api as smf\n",
    "from sklearn import datasets, linear_model\n",
    "from sklearn.metrics import mean_squared_error, r2_score\n",
    "import seaborn as sns\n",
    "\n",
    "pd.options.display.float_format = '{:.3f}'.format"
   ]
  },
  {
   "cell_type": "markdown",
   "metadata": {},
   "source": [
    "The following dataset was taken from https://www.kaggle.com/alopez247/pokemon"
   ]
  },
  {
   "cell_type": "code",
   "execution_count": 2,
   "metadata": {},
   "outputs": [],
   "source": [
    "df = pd.read_csv('C:\\\\Users\\\\cocob\\\\Downloads\\\\pokemon_alopez247.csv')"
   ]
  },
  {
   "cell_type": "code",
   "execution_count": 3,
   "metadata": {},
   "outputs": [
    {
     "data": {
      "text/plain": [
       "array(['Number', 'Name', 'Type_1', 'Type_2', 'Total', 'HP', 'Attack',\n",
       "       'Defense', 'Sp_Atk', 'Sp_Def', 'Speed', 'Generation',\n",
       "       'isLegendary', 'Color', 'hasGender', 'Pr_Male', 'Egg_Group_1',\n",
       "       'Egg_Group_2', 'hasMegaEvolution', 'Height_m', 'Weight_kg',\n",
       "       'Catch_Rate', 'Body_Style'], dtype=object)"
      ]
     },
     "execution_count": 3,
     "metadata": {},
     "output_type": "execute_result"
    }
   ],
   "source": [
    "df.columns.values"
   ]
  },
  {
   "cell_type": "markdown",
   "metadata": {},
   "source": [
    "## Data Manipulation"
   ]
  },
  {
   "cell_type": "code",
   "execution_count": 4,
   "metadata": {},
   "outputs": [],
   "source": [
    "df2 = df.dropna()"
   ]
  },
  {
   "cell_type": "code",
   "execution_count": 5,
   "metadata": {},
   "outputs": [
    {
     "name": "stderr",
     "output_type": "stream",
     "text": [
      "c:\\users\\cocob\\appdata\\local\\continuum\\anaconda3\\lib\\site-packages\\ipykernel_launcher.py:2: SettingWithCopyWarning: \n",
      "A value is trying to be set on a copy of a slice from a DataFrame.\n",
      "Try using .loc[row_indexer,col_indexer] = value instead\n",
      "\n",
      "See the caveats in the documentation: http://pandas.pydata.org/pandas-docs/stable/indexing.html#indexing-view-versus-copy\n",
      "  \n",
      "c:\\users\\cocob\\appdata\\local\\continuum\\anaconda3\\lib\\site-packages\\ipykernel_launcher.py:3: SettingWithCopyWarning: \n",
      "A value is trying to be set on a copy of a slice from a DataFrame.\n",
      "Try using .loc[row_indexer,col_indexer] = value instead\n",
      "\n",
      "See the caveats in the documentation: http://pandas.pydata.org/pandas-docs/stable/indexing.html#indexing-view-versus-copy\n",
      "  This is separate from the ipykernel package so we can avoid doing imports until\n"
     ]
    }
   ],
   "source": [
    "#df2['MegaEvolution'] = df2['hasMegaEvolution'] = 'True', 1, 0\n",
    "df2['MegaEvolution'] = np.where((df2['hasMegaEvolution'].isin([True])), 1, 0)\n",
    "df2['Catchrate2'] = np.where(df2['Catch_Rate'] >= 100, 1, 0)"
   ]
  },
  {
   "cell_type": "code",
   "execution_count": 6,
   "metadata": {},
   "outputs": [
    {
     "data": {
      "text/html": [
       "<div>\n",
       "<style scoped>\n",
       "    .dataframe tbody tr th:only-of-type {\n",
       "        vertical-align: middle;\n",
       "    }\n",
       "\n",
       "    .dataframe tbody tr th {\n",
       "        vertical-align: top;\n",
       "    }\n",
       "\n",
       "    .dataframe thead th {\n",
       "        text-align: right;\n",
       "    }\n",
       "</style>\n",
       "<table border=\"1\" class=\"dataframe\">\n",
       "  <thead>\n",
       "    <tr style=\"text-align: right;\">\n",
       "      <th></th>\n",
       "      <th>Number</th>\n",
       "      <th>Total</th>\n",
       "      <th>HP</th>\n",
       "      <th>Attack</th>\n",
       "      <th>Defense</th>\n",
       "      <th>Sp_Atk</th>\n",
       "      <th>Sp_Def</th>\n",
       "      <th>Speed</th>\n",
       "      <th>Generation</th>\n",
       "      <th>Pr_Male</th>\n",
       "      <th>Height_m</th>\n",
       "      <th>Weight_kg</th>\n",
       "      <th>Catch_Rate</th>\n",
       "      <th>MegaEvolution</th>\n",
       "      <th>Catchrate2</th>\n",
       "    </tr>\n",
       "  </thead>\n",
       "  <tbody>\n",
       "    <tr>\n",
       "      <th>count</th>\n",
       "      <td>102.000</td>\n",
       "      <td>102.000</td>\n",
       "      <td>102.000</td>\n",
       "      <td>102.000</td>\n",
       "      <td>102.000</td>\n",
       "      <td>102.000</td>\n",
       "      <td>102.000</td>\n",
       "      <td>102.000</td>\n",
       "      <td>102.000</td>\n",
       "      <td>102.000</td>\n",
       "      <td>102.000</td>\n",
       "      <td>102.000</td>\n",
       "      <td>102.000</td>\n",
       "      <td>102.000</td>\n",
       "      <td>102.000</td>\n",
       "    </tr>\n",
       "    <tr>\n",
       "      <th>mean</th>\n",
       "      <td>361.333</td>\n",
       "      <td>422.039</td>\n",
       "      <td>70.059</td>\n",
       "      <td>76.431</td>\n",
       "      <td>75.431</td>\n",
       "      <td>69.284</td>\n",
       "      <td>70.304</td>\n",
       "      <td>60.529</td>\n",
       "      <td>3.353</td>\n",
       "      <td>0.586</td>\n",
       "      <td>1.135</td>\n",
       "      <td>53.834</td>\n",
       "      <td>94.529</td>\n",
       "      <td>0.098</td>\n",
       "      <td>0.314</td>\n",
       "    </tr>\n",
       "    <tr>\n",
       "      <th>std</th>\n",
       "      <td>203.661</td>\n",
       "      <td>93.099</td>\n",
       "      <td>20.885</td>\n",
       "      <td>27.982</td>\n",
       "      <td>24.521</td>\n",
       "      <td>24.211</td>\n",
       "      <td>21.502</td>\n",
       "      <td>24.781</td>\n",
       "      <td>1.645</td>\n",
       "      <td>0.178</td>\n",
       "      <td>0.772</td>\n",
       "      <td>65.490</td>\n",
       "      <td>66.041</td>\n",
       "      <td>0.299</td>\n",
       "      <td>0.466</td>\n",
       "    </tr>\n",
       "    <tr>\n",
       "      <th>min</th>\n",
       "      <td>1.000</td>\n",
       "      <td>210.000</td>\n",
       "      <td>30.000</td>\n",
       "      <td>20.000</td>\n",
       "      <td>30.000</td>\n",
       "      <td>20.000</td>\n",
       "      <td>25.000</td>\n",
       "      <td>10.000</td>\n",
       "      <td>1.000</td>\n",
       "      <td>0.000</td>\n",
       "      <td>0.200</td>\n",
       "      <td>0.500</td>\n",
       "      <td>25.000</td>\n",
       "      <td>0.000</td>\n",
       "      <td>0.000</td>\n",
       "    </tr>\n",
       "    <tr>\n",
       "      <th>25%</th>\n",
       "      <td>190.250</td>\n",
       "      <td>340.000</td>\n",
       "      <td>55.000</td>\n",
       "      <td>55.000</td>\n",
       "      <td>55.500</td>\n",
       "      <td>54.250</td>\n",
       "      <td>55.000</td>\n",
       "      <td>42.500</td>\n",
       "      <td>2.000</td>\n",
       "      <td>0.500</td>\n",
       "      <td>0.610</td>\n",
       "      <td>9.750</td>\n",
       "      <td>45.000</td>\n",
       "      <td>0.000</td>\n",
       "      <td>0.000</td>\n",
       "    </tr>\n",
       "    <tr>\n",
       "      <th>50%</th>\n",
       "      <td>360.000</td>\n",
       "      <td>430.500</td>\n",
       "      <td>70.000</td>\n",
       "      <td>75.000</td>\n",
       "      <td>76.500</td>\n",
       "      <td>65.000</td>\n",
       "      <td>70.000</td>\n",
       "      <td>59.000</td>\n",
       "      <td>3.000</td>\n",
       "      <td>0.500</td>\n",
       "      <td>0.990</td>\n",
       "      <td>29.000</td>\n",
       "      <td>67.500</td>\n",
       "      <td>0.000</td>\n",
       "      <td>0.000</td>\n",
       "    </tr>\n",
       "    <tr>\n",
       "      <th>75%</th>\n",
       "      <td>546.750</td>\n",
       "      <td>493.000</td>\n",
       "      <td>84.750</td>\n",
       "      <td>92.000</td>\n",
       "      <td>90.000</td>\n",
       "      <td>85.000</td>\n",
       "      <td>85.000</td>\n",
       "      <td>80.000</td>\n",
       "      <td>5.000</td>\n",
       "      <td>0.500</td>\n",
       "      <td>1.400</td>\n",
       "      <td>78.225</td>\n",
       "      <td>120.000</td>\n",
       "      <td>0.000</td>\n",
       "      <td>1.000</td>\n",
       "    </tr>\n",
       "    <tr>\n",
       "      <th>max</th>\n",
       "      <td>709.000</td>\n",
       "      <td>600.000</td>\n",
       "      <td>130.000</td>\n",
       "      <td>140.000</td>\n",
       "      <td>133.000</td>\n",
       "      <td>125.000</td>\n",
       "      <td>123.000</td>\n",
       "      <td>116.000</td>\n",
       "      <td>6.000</td>\n",
       "      <td>1.000</td>\n",
       "      <td>6.500</td>\n",
       "      <td>310.000</td>\n",
       "      <td>255.000</td>\n",
       "      <td>1.000</td>\n",
       "      <td>1.000</td>\n",
       "    </tr>\n",
       "  </tbody>\n",
       "</table>\n",
       "</div>"
      ],
      "text/plain": [
       "       Number   Total      HP  Attack  Defense  Sp_Atk  Sp_Def   Speed  \\\n",
       "count 102.000 102.000 102.000 102.000  102.000 102.000 102.000 102.000   \n",
       "mean  361.333 422.039  70.059  76.431   75.431  69.284  70.304  60.529   \n",
       "std   203.661  93.099  20.885  27.982   24.521  24.211  21.502  24.781   \n",
       "min     1.000 210.000  30.000  20.000   30.000  20.000  25.000  10.000   \n",
       "25%   190.250 340.000  55.000  55.000   55.500  54.250  55.000  42.500   \n",
       "50%   360.000 430.500  70.000  75.000   76.500  65.000  70.000  59.000   \n",
       "75%   546.750 493.000  84.750  92.000   90.000  85.000  85.000  80.000   \n",
       "max   709.000 600.000 130.000 140.000  133.000 125.000 123.000 116.000   \n",
       "\n",
       "       Generation  Pr_Male  Height_m  Weight_kg  Catch_Rate  MegaEvolution  \\\n",
       "count     102.000  102.000   102.000    102.000     102.000        102.000   \n",
       "mean        3.353    0.586     1.135     53.834      94.529          0.098   \n",
       "std         1.645    0.178     0.772     65.490      66.041          0.299   \n",
       "min         1.000    0.000     0.200      0.500      25.000          0.000   \n",
       "25%         2.000    0.500     0.610      9.750      45.000          0.000   \n",
       "50%         3.000    0.500     0.990     29.000      67.500          0.000   \n",
       "75%         5.000    0.500     1.400     78.225     120.000          0.000   \n",
       "max         6.000    1.000     6.500    310.000     255.000          1.000   \n",
       "\n",
       "       Catchrate2  \n",
       "count     102.000  \n",
       "mean        0.314  \n",
       "std         0.466  \n",
       "min         0.000  \n",
       "25%         0.000  \n",
       "50%         0.000  \n",
       "75%         1.000  \n",
       "max         1.000  "
      ]
     },
     "execution_count": 6,
     "metadata": {},
     "output_type": "execute_result"
    }
   ],
   "source": [
    "df2.describe()"
   ]
  },
  {
   "cell_type": "code",
   "execution_count": 7,
   "metadata": {},
   "outputs": [
    {
     "data": {
      "text/html": [
       "<div>\n",
       "<style scoped>\n",
       "    .dataframe tbody tr th:only-of-type {\n",
       "        vertical-align: middle;\n",
       "    }\n",
       "\n",
       "    .dataframe tbody tr th {\n",
       "        vertical-align: top;\n",
       "    }\n",
       "\n",
       "    .dataframe thead th {\n",
       "        text-align: right;\n",
       "    }\n",
       "</style>\n",
       "<table border=\"1\" class=\"dataframe\">\n",
       "  <thead>\n",
       "    <tr style=\"text-align: right;\">\n",
       "      <th></th>\n",
       "      <th>Number</th>\n",
       "      <th>Name</th>\n",
       "      <th>Type_1</th>\n",
       "      <th>Type_2</th>\n",
       "      <th>Total</th>\n",
       "      <th>HP</th>\n",
       "      <th>Attack</th>\n",
       "      <th>Defense</th>\n",
       "      <th>Sp_Atk</th>\n",
       "      <th>Sp_Def</th>\n",
       "      <th>...</th>\n",
       "      <th>Pr_Male</th>\n",
       "      <th>Egg_Group_1</th>\n",
       "      <th>Egg_Group_2</th>\n",
       "      <th>hasMegaEvolution</th>\n",
       "      <th>Height_m</th>\n",
       "      <th>Weight_kg</th>\n",
       "      <th>Catch_Rate</th>\n",
       "      <th>Body_Style</th>\n",
       "      <th>MegaEvolution</th>\n",
       "      <th>Catchrate2</th>\n",
       "    </tr>\n",
       "  </thead>\n",
       "  <tbody>\n",
       "    <tr>\n",
       "      <th>0</th>\n",
       "      <td>1</td>\n",
       "      <td>Bulbasaur</td>\n",
       "      <td>Grass</td>\n",
       "      <td>Poison</td>\n",
       "      <td>318</td>\n",
       "      <td>45</td>\n",
       "      <td>49</td>\n",
       "      <td>49</td>\n",
       "      <td>65</td>\n",
       "      <td>65</td>\n",
       "      <td>...</td>\n",
       "      <td>0.875</td>\n",
       "      <td>Monster</td>\n",
       "      <td>Grass</td>\n",
       "      <td>False</td>\n",
       "      <td>0.710</td>\n",
       "      <td>6.900</td>\n",
       "      <td>45</td>\n",
       "      <td>quadruped</td>\n",
       "      <td>0</td>\n",
       "      <td>0</td>\n",
       "    </tr>\n",
       "    <tr>\n",
       "      <th>1</th>\n",
       "      <td>2</td>\n",
       "      <td>Ivysaur</td>\n",
       "      <td>Grass</td>\n",
       "      <td>Poison</td>\n",
       "      <td>405</td>\n",
       "      <td>60</td>\n",
       "      <td>62</td>\n",
       "      <td>63</td>\n",
       "      <td>80</td>\n",
       "      <td>80</td>\n",
       "      <td>...</td>\n",
       "      <td>0.875</td>\n",
       "      <td>Monster</td>\n",
       "      <td>Grass</td>\n",
       "      <td>False</td>\n",
       "      <td>0.990</td>\n",
       "      <td>13.000</td>\n",
       "      <td>45</td>\n",
       "      <td>quadruped</td>\n",
       "      <td>0</td>\n",
       "      <td>0</td>\n",
       "    </tr>\n",
       "    <tr>\n",
       "      <th>2</th>\n",
       "      <td>3</td>\n",
       "      <td>Venusaur</td>\n",
       "      <td>Grass</td>\n",
       "      <td>Poison</td>\n",
       "      <td>525</td>\n",
       "      <td>80</td>\n",
       "      <td>82</td>\n",
       "      <td>83</td>\n",
       "      <td>100</td>\n",
       "      <td>100</td>\n",
       "      <td>...</td>\n",
       "      <td>0.875</td>\n",
       "      <td>Monster</td>\n",
       "      <td>Grass</td>\n",
       "      <td>True</td>\n",
       "      <td>2.010</td>\n",
       "      <td>100.000</td>\n",
       "      <td>45</td>\n",
       "      <td>quadruped</td>\n",
       "      <td>1</td>\n",
       "      <td>0</td>\n",
       "    </tr>\n",
       "    <tr>\n",
       "      <th>5</th>\n",
       "      <td>6</td>\n",
       "      <td>Charizard</td>\n",
       "      <td>Fire</td>\n",
       "      <td>Flying</td>\n",
       "      <td>534</td>\n",
       "      <td>78</td>\n",
       "      <td>84</td>\n",
       "      <td>78</td>\n",
       "      <td>109</td>\n",
       "      <td>85</td>\n",
       "      <td>...</td>\n",
       "      <td>0.875</td>\n",
       "      <td>Monster</td>\n",
       "      <td>Dragon</td>\n",
       "      <td>True</td>\n",
       "      <td>1.700</td>\n",
       "      <td>90.500</td>\n",
       "      <td>45</td>\n",
       "      <td>bipedal_tailed</td>\n",
       "      <td>1</td>\n",
       "      <td>0</td>\n",
       "    </tr>\n",
       "    <tr>\n",
       "      <th>33</th>\n",
       "      <td>34</td>\n",
       "      <td>Nidoking</td>\n",
       "      <td>Poison</td>\n",
       "      <td>Ground</td>\n",
       "      <td>505</td>\n",
       "      <td>81</td>\n",
       "      <td>102</td>\n",
       "      <td>77</td>\n",
       "      <td>85</td>\n",
       "      <td>75</td>\n",
       "      <td>...</td>\n",
       "      <td>1.000</td>\n",
       "      <td>Monster</td>\n",
       "      <td>Field</td>\n",
       "      <td>False</td>\n",
       "      <td>1.400</td>\n",
       "      <td>62.000</td>\n",
       "      <td>45</td>\n",
       "      <td>bipedal_tailed</td>\n",
       "      <td>0</td>\n",
       "      <td>0</td>\n",
       "    </tr>\n",
       "    <tr>\n",
       "      <th>45</th>\n",
       "      <td>46</td>\n",
       "      <td>Paras</td>\n",
       "      <td>Bug</td>\n",
       "      <td>Grass</td>\n",
       "      <td>285</td>\n",
       "      <td>35</td>\n",
       "      <td>70</td>\n",
       "      <td>55</td>\n",
       "      <td>45</td>\n",
       "      <td>55</td>\n",
       "      <td>...</td>\n",
       "      <td>0.500</td>\n",
       "      <td>Bug</td>\n",
       "      <td>Grass</td>\n",
       "      <td>False</td>\n",
       "      <td>0.300</td>\n",
       "      <td>5.400</td>\n",
       "      <td>190</td>\n",
       "      <td>insectoid</td>\n",
       "      <td>0</td>\n",
       "      <td>1</td>\n",
       "    </tr>\n",
       "    <tr>\n",
       "      <th>46</th>\n",
       "      <td>47</td>\n",
       "      <td>Parasect</td>\n",
       "      <td>Bug</td>\n",
       "      <td>Grass</td>\n",
       "      <td>405</td>\n",
       "      <td>60</td>\n",
       "      <td>95</td>\n",
       "      <td>80</td>\n",
       "      <td>60</td>\n",
       "      <td>80</td>\n",
       "      <td>...</td>\n",
       "      <td>0.500</td>\n",
       "      <td>Bug</td>\n",
       "      <td>Grass</td>\n",
       "      <td>False</td>\n",
       "      <td>0.990</td>\n",
       "      <td>29.500</td>\n",
       "      <td>75</td>\n",
       "      <td>insectoid</td>\n",
       "      <td>0</td>\n",
       "      <td>0</td>\n",
       "    </tr>\n",
       "    <tr>\n",
       "      <th>78</th>\n",
       "      <td>79</td>\n",
       "      <td>Slowpoke</td>\n",
       "      <td>Water</td>\n",
       "      <td>Psychic</td>\n",
       "      <td>315</td>\n",
       "      <td>90</td>\n",
       "      <td>65</td>\n",
       "      <td>65</td>\n",
       "      <td>40</td>\n",
       "      <td>40</td>\n",
       "      <td>...</td>\n",
       "      <td>0.500</td>\n",
       "      <td>Monster</td>\n",
       "      <td>Water_1</td>\n",
       "      <td>False</td>\n",
       "      <td>1.190</td>\n",
       "      <td>36.000</td>\n",
       "      <td>190</td>\n",
       "      <td>quadruped</td>\n",
       "      <td>0</td>\n",
       "      <td>1</td>\n",
       "    </tr>\n",
       "    <tr>\n",
       "      <th>79</th>\n",
       "      <td>80</td>\n",
       "      <td>Slowbro</td>\n",
       "      <td>Water</td>\n",
       "      <td>Psychic</td>\n",
       "      <td>490</td>\n",
       "      <td>95</td>\n",
       "      <td>75</td>\n",
       "      <td>110</td>\n",
       "      <td>100</td>\n",
       "      <td>80</td>\n",
       "      <td>...</td>\n",
       "      <td>0.500</td>\n",
       "      <td>Monster</td>\n",
       "      <td>Water_1</td>\n",
       "      <td>True</td>\n",
       "      <td>1.600</td>\n",
       "      <td>78.500</td>\n",
       "      <td>75</td>\n",
       "      <td>bipedal_tailed</td>\n",
       "      <td>1</td>\n",
       "      <td>0</td>\n",
       "    </tr>\n",
       "    <tr>\n",
       "      <th>82</th>\n",
       "      <td>83</td>\n",
       "      <td>Farfetch'd</td>\n",
       "      <td>Normal</td>\n",
       "      <td>Flying</td>\n",
       "      <td>352</td>\n",
       "      <td>52</td>\n",
       "      <td>65</td>\n",
       "      <td>55</td>\n",
       "      <td>58</td>\n",
       "      <td>62</td>\n",
       "      <td>...</td>\n",
       "      <td>0.500</td>\n",
       "      <td>Flying</td>\n",
       "      <td>Field</td>\n",
       "      <td>False</td>\n",
       "      <td>0.790</td>\n",
       "      <td>15.000</td>\n",
       "      <td>45</td>\n",
       "      <td>two_wings</td>\n",
       "      <td>0</td>\n",
       "      <td>0</td>\n",
       "    </tr>\n",
       "  </tbody>\n",
       "</table>\n",
       "<p>10 rows × 25 columns</p>\n",
       "</div>"
      ],
      "text/plain": [
       "    Number        Name  Type_1   Type_2  Total  HP  Attack  Defense  Sp_Atk  \\\n",
       "0        1   Bulbasaur   Grass   Poison    318  45      49       49      65   \n",
       "1        2     Ivysaur   Grass   Poison    405  60      62       63      80   \n",
       "2        3    Venusaur   Grass   Poison    525  80      82       83     100   \n",
       "5        6   Charizard    Fire   Flying    534  78      84       78     109   \n",
       "33      34    Nidoking  Poison   Ground    505  81     102       77      85   \n",
       "45      46       Paras     Bug    Grass    285  35      70       55      45   \n",
       "46      47    Parasect     Bug    Grass    405  60      95       80      60   \n",
       "78      79    Slowpoke   Water  Psychic    315  90      65       65      40   \n",
       "79      80     Slowbro   Water  Psychic    490  95      75      110     100   \n",
       "82      83  Farfetch'd  Normal   Flying    352  52      65       55      58   \n",
       "\n",
       "    Sp_Def     ...      Pr_Male  Egg_Group_1  Egg_Group_2 hasMegaEvolution  \\\n",
       "0       65     ...        0.875      Monster        Grass            False   \n",
       "1       80     ...        0.875      Monster        Grass            False   \n",
       "2      100     ...        0.875      Monster        Grass             True   \n",
       "5       85     ...        0.875      Monster       Dragon             True   \n",
       "33      75     ...        1.000      Monster        Field            False   \n",
       "45      55     ...        0.500          Bug        Grass            False   \n",
       "46      80     ...        0.500          Bug        Grass            False   \n",
       "78      40     ...        0.500      Monster      Water_1            False   \n",
       "79      80     ...        0.500      Monster      Water_1             True   \n",
       "82      62     ...        0.500       Flying        Field            False   \n",
       "\n",
       "    Height_m  Weight_kg Catch_Rate      Body_Style  MegaEvolution  Catchrate2  \n",
       "0      0.710      6.900         45       quadruped              0           0  \n",
       "1      0.990     13.000         45       quadruped              0           0  \n",
       "2      2.010    100.000         45       quadruped              1           0  \n",
       "5      1.700     90.500         45  bipedal_tailed              1           0  \n",
       "33     1.400     62.000         45  bipedal_tailed              0           0  \n",
       "45     0.300      5.400        190       insectoid              0           1  \n",
       "46     0.990     29.500         75       insectoid              0           0  \n",
       "78     1.190     36.000        190       quadruped              0           1  \n",
       "79     1.600     78.500         75  bipedal_tailed              1           0  \n",
       "82     0.790     15.000         45       two_wings              0           0  \n",
       "\n",
       "[10 rows x 25 columns]"
      ]
     },
     "execution_count": 7,
     "metadata": {},
     "output_type": "execute_result"
    }
   ],
   "source": [
    "df2.head(10)"
   ]
  },
  {
   "cell_type": "code",
   "execution_count": 8,
   "metadata": {},
   "outputs": [],
   "source": [
    "df4 = pd.get_dummies(df2, columns=['Type_1', 'Type_2', 'Color', 'Egg_Group_1', 'Egg_Group_2']).head()"
   ]
  },
  {
   "cell_type": "markdown",
   "metadata": {},
   "source": [
    "## Feature Correlation"
   ]
  },
  {
   "cell_type": "code",
   "execution_count": 9,
   "metadata": {},
   "outputs": [
    {
     "data": {
      "image/png": "[encoded data removed]",
      "text/plain": [
       "<matplotlib.figure.Figure at 0x2430b7486a0>"
      ]
     },
     "metadata": {},
     "output_type": "display_data"
    }
   ],
   "source": [
    "df3 = df2.drop(['isLegendary', 'Pr_Male', 'hasGender', 'Generation', 'Number', 'Total', 'hasMegaEvolution', 'Catchrate2', 'Catch_Rate', 'MegaEvolution'], axis= 1)\n",
    "corrmat = df3.corr()\n",
    "sns.heatmap(corrmat, vmax=.8, square=True)\n",
    "plt.show()"
   ]
  },
  {
   "cell_type": "markdown",
   "metadata": {},
   "source": [
    "## Linear Regression"
   ]
  },
  {
   "cell_type": "code",
   "execution_count": 56,
   "metadata": {},
   "outputs": [
    {
     "data": {
      "text/plain": [
       "<matplotlib.axes._subplots.AxesSubplot at 0x2430bfe2518>"
      ]
     },
     "execution_count": 56,
     "metadata": {},
     "output_type": "execute_result"
    },
    {
     "data": {
      "image/png": "[encoded data removed]",
      "text/plain": [
       "<matplotlib.figure.Figure at 0x2430c584ef0>"
      ]
     },
     "metadata": {},
     "output_type": "display_data"
    }
   ],
   "source": [
    "sns.regplot(x= df2['HP'] + df2['Attack'] + df2['Defense'] + df2['Sp_Atk'] + df2['Sp_Def'] + df2['Speed'] + df2['Height_m'] + df2['Weight_kg'], y=df2['Catch_Rate'])"
   ]
  },
  {
   "cell_type": "code",
   "execution_count": 11,
   "metadata": {},
   "outputs": [
    {
     "data": {
      "text/plain": [
       "LinearRegression(copy_X=True, fit_intercept=True, n_jobs=1, normalize=False)"
      ]
     },
     "execution_count": 11,
     "metadata": {},
     "output_type": "execute_result"
    }
   ],
   "source": [
    "regr = linear_model.LinearRegression()\n",
    "Y = df2['Catch_Rate']\n",
    "X = df2[['HP', 'Attack', 'Defense', 'Sp_Atk', 'Sp_Def', 'Speed', 'Height_m', 'Weight_kg']]\n",
    "regr.fit(X, Y)"
   ]
  },
  {
   "cell_type": "code",
   "execution_count": 12,
   "metadata": {},
   "outputs": [
    {
     "name": "stdout",
     "output_type": "stream",
     "text": [
      "\n",
      "Coefficients: \n",
      " [-0.19094606 -0.60623326 -0.94503195 -0.82944293  0.02134523 -0.54973142\n",
      " -9.71966771  0.1704577 ]\n",
      "\n",
      "Intercept: \n",
      " 316.6279757895403\n",
      "\n",
      "R-squared:\n",
      "0.5693297923783909\n"
     ]
    }
   ],
   "source": [
    "print('\\nCoefficients: \\n', regr.coef_)\n",
    "print('\\nIntercept: \\n', regr.intercept_)\n",
    "print('\\nR-squared:')\n",
    "print(regr.score(X, Y))"
   ]
  },
  {
   "cell_type": "markdown",
   "metadata": {},
   "source": [
    "## Random Forest"
   ]
  },
  {
   "cell_type": "code",
   "execution_count": 13,
   "metadata": {},
   "outputs": [],
   "source": [
    "from sklearn import ensemble\n",
    "from sklearn.model_selection import cross_val_score"
   ]
  },
  {
   "cell_type": "code",
   "execution_count": 14,
   "metadata": {},
   "outputs": [
    {
     "data": {
      "text/plain": [
       "array([0.54545455, 0.63636364, 0.3       , 0.5       , 0.2       ,\n",
       "       0.4       , 0.5       , 0.2       , 0.3       , 0.2       ])"
      ]
     },
     "execution_count": 14,
     "metadata": {},
     "output_type": "execute_result"
    }
   ],
   "source": [
    "rfc = ensemble.RandomForestClassifier()\n",
    "X = df2['Type_1'] + df2['Type_2'] + df2['Color'] + df2['Egg_Group_1'] + df2['Egg_Group_2']\n",
    "#X = df4.drop(['Catch_Rate', 'Number', 'MegaEvolution', 'Catchrate2', 'Name', 'Body_Style', 'Pr_Male', 'isLegendary', 'Generation', 'hasGender', 'Total', 'HP', 'Attack', 'Defense', 'Sp_Atk', 'Sp_Def', 'Speed', 'hasMegaEvolution'], 1)\n",
    "Y = df2['Catch_Rate']\n",
    "X = pd.get_dummies(X)\n",
    "X = X.dropna(axis=1)\n",
    "X = np.array(X.dropna(axis=1))\n",
    "Y = pd.get_dummies(Y)\n",
    "\n",
    "cross_val_score(rfc, X, Y, cv=10)"
   ]
  },
  {
   "cell_type": "code",
   "execution_count": 15,
   "metadata": {},
   "outputs": [
    {
     "data": {
      "text/plain": [
       "0.5980392156862745"
      ]
     },
     "execution_count": 15,
     "metadata": {},
     "output_type": "execute_result"
    }
   ],
   "source": [
    "rfc.fit(X, Y)\n",
    "rfc.score(X, Y)"
   ]
  },
  {
   "cell_type": "code",
   "execution_count": 16,
   "metadata": {},
   "outputs": [
    {
     "name": "stdout",
     "output_type": "stream",
     "text": [
      "[0.01429904 0.02980037 0.0305806  0.02131217 0.01717664 0.02727302\n",
      " 0.02994151 0.00044211 0.00166476 0.00342669 0.03232912 0.03299559\n",
      " 0.02974956 0.0155827  0.00097132 0.0021511  0.00080523 0.03037741\n",
      " 0.01219127 0.0164677  0.02989613 0.02097918 0.00071081 0.02010033\n",
      " 0.01181573 0.03200696 0.00011907 0.0320384  0.03098113 0.00298109\n",
      " 0.02689687 0.01246115 0.03428655 0.00052598 0.01494806 0.02094115\n",
      " 0.01933388 0.00104452 0.03198547 0.00766955 0.00065885 0.01106611\n",
      " 0.00162895 0.02744695 0.00683326 0.00071299 0.00268114 0.00172287\n",
      " 0.00326983 0.00274791 0.00078989 0.02188821 0.00063265 0.02506826\n",
      " 0.02590714 0.00070932 0.0080939  0.001129   0.01235182 0.00724941\n",
      " 0.02574917 0.01755803 0.0017869  0.01476673 0.0349372  0.00373835\n",
      " 0.01565954 0.02131507 0.00064062]\n"
     ]
    }
   ],
   "source": [
    "di = rfc.feature_importances_\n",
    "print(di)"
   ]
  },
  {
   "cell_type": "code",
   "execution_count": 17,
   "metadata": {},
   "outputs": [],
   "source": [
    "#rfc2 = pd.read_csv('C:\\\\Users\\\\cocob\\\\Documents\\\\poke_dummies_rfc.csv')"
   ]
  },
  {
   "cell_type": "code",
   "execution_count": 18,
   "metadata": {},
   "outputs": [],
   "source": [
    "#rfc2.head()"
   ]
  },
  {
   "cell_type": "code",
   "execution_count": 19,
   "metadata": {
    "scrolled": true
   },
   "outputs": [
    {
     "data": {
      "text/plain": [
       "array(['Number', 'Name', 'Total', 'HP', 'Attack', 'Defense', 'Sp_Atk',\n",
       "       'Sp_Def', 'Speed', 'Generation', 'isLegendary', 'hasGender',\n",
       "       'Pr_Male', 'hasMegaEvolution', 'Height_m', 'Weight_kg',\n",
       "       'Catch_Rate', 'Body_Style', 'MegaEvolution', 'Catchrate2',\n",
       "       'Type_1_Bug', 'Type_1_Dark', 'Type_1_Dragon', 'Type_1_Electric',\n",
       "       'Type_1_Fairy', 'Type_1_Fighting', 'Type_1_Fire', 'Type_1_Ghost',\n",
       "       'Type_1_Grass', 'Type_1_Ground', 'Type_1_Ice', 'Type_1_Normal',\n",
       "       'Type_1_Poison', 'Type_1_Psychic', 'Type_1_Rock', 'Type_1_Steel',\n",
       "       'Type_1_Water', 'Type_2_Bug', 'Type_2_Dark', 'Type_2_Dragon',\n",
       "       'Type_2_Electric', 'Type_2_Fairy', 'Type_2_Fighting',\n",
       "       'Type_2_Flying', 'Type_2_Ghost', 'Type_2_Grass', 'Type_2_Ground',\n",
       "       'Type_2_Ice', 'Type_2_Normal', 'Type_2_Poison', 'Type_2_Psychic',\n",
       "       'Type_2_Rock', 'Type_2_Steel', 'Type_2_Water', 'Color_Black',\n",
       "       'Color_Blue', 'Color_Brown', 'Color_Green', 'Color_Grey',\n",
       "       'Color_Pink', 'Color_Purple', 'Color_Red', 'Color_White',\n",
       "       'Color_Yellow', 'Egg_Group_1_Bug', 'Egg_Group_1_Fairy',\n",
       "       'Egg_Group_1_Field', 'Egg_Group_1_Flying', 'Egg_Group_1_Grass',\n",
       "       'Egg_Group_1_Monster', 'Egg_Group_1_Water_1',\n",
       "       'Egg_Group_1_Water_2', 'Egg_Group_2_Amorphous', 'Egg_Group_2_Bug',\n",
       "       'Egg_Group_2_Dragon', 'Egg_Group_2_Fairy', 'Egg_Group_2_Field',\n",
       "       'Egg_Group_2_Flying', 'Egg_Group_2_Grass',\n",
       "       'Egg_Group_2_Human-Like', 'Egg_Group_2_Mineral',\n",
       "       'Egg_Group_2_Water_1', 'Egg_Group_2_Water_2',\n",
       "       'Egg_Group_2_Water_3'], dtype=object)"
      ]
     },
     "execution_count": 19,
     "metadata": {},
     "output_type": "execute_result"
    }
   ],
   "source": [
    "df4.columns.values"
   ]
  },
  {
   "cell_type": "code",
   "execution_count": 20,
   "metadata": {},
   "outputs": [],
   "source": [
    "#df8 = df4.drop(['Name', 'isLegendary', 'Pr_Male', 'hasGender', 'Generation', 'Number', 'Total', 'hasMegaEvolution', 'Height_m', 'Weight_kg', 'Catch_Rate', 'MegaEvolution', 'HP', 'Attack', 'Defense', 'Sp_Atk', 'Sp_Def', 'Speed'], axis= 1)"
   ]
  },
  {
   "cell_type": "code",
   "execution_count": 21,
   "metadata": {},
   "outputs": [
    {
     "data": {
      "text/html": [
       "<div>\n",
       "<style scoped>\n",
       "    .dataframe tbody tr th:only-of-type {\n",
       "        vertical-align: middle;\n",
       "    }\n",
       "\n",
       "    .dataframe tbody tr th {\n",
       "        vertical-align: top;\n",
       "    }\n",
       "\n",
       "    .dataframe thead th {\n",
       "        text-align: right;\n",
       "    }\n",
       "</style>\n",
       "<table border=\"1\" class=\"dataframe\">\n",
       "  <thead>\n",
       "    <tr style=\"text-align: right;\">\n",
       "      <th></th>\n",
       "      <th>Number</th>\n",
       "      <th>Total</th>\n",
       "      <th>HP</th>\n",
       "      <th>Attack</th>\n",
       "      <th>Defense</th>\n",
       "      <th>Sp_Atk</th>\n",
       "      <th>Sp_Def</th>\n",
       "      <th>Speed</th>\n",
       "      <th>Generation</th>\n",
       "      <th>isLegendary</th>\n",
       "      <th>hasGender</th>\n",
       "      <th>Pr_Male</th>\n",
       "      <th>hasMegaEvolution</th>\n",
       "      <th>Height_m</th>\n",
       "      <th>Weight_kg</th>\n",
       "      <th>Catch_Rate</th>\n",
       "    </tr>\n",
       "  </thead>\n",
       "  <tbody>\n",
       "    <tr>\n",
       "      <th>Number</th>\n",
       "      <td>1.000</td>\n",
       "      <td>0.160</td>\n",
       "      <td>0.108</td>\n",
       "      <td>0.138</td>\n",
       "      <td>0.121</td>\n",
       "      <td>0.120</td>\n",
       "      <td>0.112</td>\n",
       "      <td>0.028</td>\n",
       "      <td>0.983</td>\n",
       "      <td>0.135</td>\n",
       "      <td>-0.100</td>\n",
       "      <td>-0.013</td>\n",
       "      <td>-0.118</td>\n",
       "      <td>-0.010</td>\n",
       "      <td>0.087</td>\n",
       "      <td>-0.075</td>\n",
       "    </tr>\n",
       "    <tr>\n",
       "      <th>Total</th>\n",
       "      <td>0.160</td>\n",
       "      <td>1.000</td>\n",
       "      <td>0.643</td>\n",
       "      <td>0.704</td>\n",
       "      <td>0.606</td>\n",
       "      <td>0.724</td>\n",
       "      <td>0.707</td>\n",
       "      <td>0.549</td>\n",
       "      <td>0.093</td>\n",
       "      <td>0.482</td>\n",
       "      <td>-0.386</td>\n",
       "      <td>0.114</td>\n",
       "      <td>0.229</td>\n",
       "      <td>0.527</td>\n",
       "      <td>0.536</td>\n",
       "      <td>-0.738</td>\n",
       "    </tr>\n",
       "    <tr>\n",
       "      <th>HP</th>\n",
       "      <td>0.108</td>\n",
       "      <td>0.643</td>\n",
       "      <td>1.000</td>\n",
       "      <td>0.432</td>\n",
       "      <td>0.229</td>\n",
       "      <td>0.369</td>\n",
       "      <td>0.376</td>\n",
       "      <td>0.170</td>\n",
       "      <td>0.072</td>\n",
       "      <td>0.259</td>\n",
       "      <td>-0.155</td>\n",
       "      <td>-0.067</td>\n",
       "      <td>0.094</td>\n",
       "      <td>0.443</td>\n",
       "      <td>0.431</td>\n",
       "      <td>-0.479</td>\n",
       "    </tr>\n",
       "    <tr>\n",
       "      <th>Attack</th>\n",
       "      <td>0.138</td>\n",
       "      <td>0.704</td>\n",
       "      <td>0.432</td>\n",
       "      <td>1.000</td>\n",
       "      <td>0.433</td>\n",
       "      <td>0.335</td>\n",
       "      <td>0.207</td>\n",
       "      <td>0.335</td>\n",
       "      <td>0.094</td>\n",
       "      <td>0.303</td>\n",
       "      <td>-0.197</td>\n",
       "      <td>0.214</td>\n",
       "      <td>0.204</td>\n",
       "      <td>0.409</td>\n",
       "      <td>0.469</td>\n",
       "      <td>-0.525</td>\n",
       "    </tr>\n",
       "    <tr>\n",
       "      <th>Defense</th>\n",
       "      <td>0.121</td>\n",
       "      <td>0.606</td>\n",
       "      <td>0.229</td>\n",
       "      <td>0.433</td>\n",
       "      <td>1.000</td>\n",
       "      <td>0.203</td>\n",
       "      <td>0.484</td>\n",
       "      <td>-0.009</td>\n",
       "      <td>0.068</td>\n",
       "      <td>0.274</td>\n",
       "      <td>-0.269</td>\n",
       "      <td>0.064</td>\n",
       "      <td>0.123</td>\n",
       "      <td>0.354</td>\n",
       "      <td>0.477</td>\n",
       "      <td>-0.437</td>\n",
       "    </tr>\n",
       "    <tr>\n",
       "      <th>Sp_Atk</th>\n",
       "      <td>0.120</td>\n",
       "      <td>0.724</td>\n",
       "      <td>0.369</td>\n",
       "      <td>0.335</td>\n",
       "      <td>0.203</td>\n",
       "      <td>1.000</td>\n",
       "      <td>0.493</td>\n",
       "      <td>0.443</td>\n",
       "      <td>0.070</td>\n",
       "      <td>0.410</td>\n",
       "      <td>-0.337</td>\n",
       "      <td>0.106</td>\n",
       "      <td>0.176</td>\n",
       "      <td>0.331</td>\n",
       "      <td>0.285</td>\n",
       "      <td>-0.539</td>\n",
       "    </tr>\n",
       "    <tr>\n",
       "      <th>Sp_Def</th>\n",
       "      <td>0.112</td>\n",
       "      <td>0.707</td>\n",
       "      <td>0.376</td>\n",
       "      <td>0.207</td>\n",
       "      <td>0.484</td>\n",
       "      <td>0.493</td>\n",
       "      <td>1.000</td>\n",
       "      <td>0.233</td>\n",
       "      <td>0.055</td>\n",
       "      <td>0.360</td>\n",
       "      <td>-0.337</td>\n",
       "      <td>0.018</td>\n",
       "      <td>0.150</td>\n",
       "      <td>0.313</td>\n",
       "      <td>0.329</td>\n",
       "      <td>-0.513</td>\n",
       "    </tr>\n",
       "    <tr>\n",
       "      <th>Speed</th>\n",
       "      <td>0.028</td>\n",
       "      <td>0.549</td>\n",
       "      <td>0.170</td>\n",
       "      <td>0.335</td>\n",
       "      <td>-0.009</td>\n",
       "      <td>0.443</td>\n",
       "      <td>0.233</td>\n",
       "      <td>1.000</td>\n",
       "      <td>0.004</td>\n",
       "      <td>0.286</td>\n",
       "      <td>-0.217</td>\n",
       "      <td>0.070</td>\n",
       "      <td>0.148</td>\n",
       "      <td>0.225</td>\n",
       "      <td>0.109</td>\n",
       "      <td>-0.411</td>\n",
       "    </tr>\n",
       "    <tr>\n",
       "      <th>Generation</th>\n",
       "      <td>0.983</td>\n",
       "      <td>0.093</td>\n",
       "      <td>0.072</td>\n",
       "      <td>0.094</td>\n",
       "      <td>0.068</td>\n",
       "      <td>0.070</td>\n",
       "      <td>0.055</td>\n",
       "      <td>0.004</td>\n",
       "      <td>1.000</td>\n",
       "      <td>0.072</td>\n",
       "      <td>-0.030</td>\n",
       "      <td>0.011</td>\n",
       "      <td>-0.125</td>\n",
       "      <td>-0.051</td>\n",
       "      <td>0.034</td>\n",
       "      <td>-0.025</td>\n",
       "    </tr>\n",
       "    <tr>\n",
       "      <th>isLegendary</th>\n",
       "      <td>0.135</td>\n",
       "      <td>0.482</td>\n",
       "      <td>0.259</td>\n",
       "      <td>0.303</td>\n",
       "      <td>0.274</td>\n",
       "      <td>0.410</td>\n",
       "      <td>0.360</td>\n",
       "      <td>0.286</td>\n",
       "      <td>0.072</td>\n",
       "      <td>1.000</td>\n",
       "      <td>-0.645</td>\n",
       "      <td>0.095</td>\n",
       "      <td>0.048</td>\n",
       "      <td>0.326</td>\n",
       "      <td>0.425</td>\n",
       "      <td>-0.319</td>\n",
       "    </tr>\n",
       "    <tr>\n",
       "      <th>hasGender</th>\n",
       "      <td>-0.100</td>\n",
       "      <td>-0.386</td>\n",
       "      <td>-0.155</td>\n",
       "      <td>-0.197</td>\n",
       "      <td>-0.269</td>\n",
       "      <td>-0.337</td>\n",
       "      <td>-0.337</td>\n",
       "      <td>-0.217</td>\n",
       "      <td>-0.030</td>\n",
       "      <td>-0.645</td>\n",
       "      <td>1.000</td>\n",
       "      <td>nan</td>\n",
       "      <td>0.017</td>\n",
       "      <td>-0.200</td>\n",
       "      <td>-0.361</td>\n",
       "      <td>0.272</td>\n",
       "    </tr>\n",
       "    <tr>\n",
       "      <th>Pr_Male</th>\n",
       "      <td>-0.013</td>\n",
       "      <td>0.114</td>\n",
       "      <td>-0.067</td>\n",
       "      <td>0.214</td>\n",
       "      <td>0.064</td>\n",
       "      <td>0.106</td>\n",
       "      <td>0.018</td>\n",
       "      <td>0.070</td>\n",
       "      <td>0.011</td>\n",
       "      <td>0.095</td>\n",
       "      <td>nan</td>\n",
       "      <td>1.000</td>\n",
       "      <td>0.032</td>\n",
       "      <td>0.041</td>\n",
       "      <td>0.061</td>\n",
       "      <td>-0.254</td>\n",
       "    </tr>\n",
       "    <tr>\n",
       "      <th>hasMegaEvolution</th>\n",
       "      <td>-0.118</td>\n",
       "      <td>0.229</td>\n",
       "      <td>0.094</td>\n",
       "      <td>0.204</td>\n",
       "      <td>0.123</td>\n",
       "      <td>0.176</td>\n",
       "      <td>0.150</td>\n",
       "      <td>0.148</td>\n",
       "      <td>-0.125</td>\n",
       "      <td>0.048</td>\n",
       "      <td>0.017</td>\n",
       "      <td>0.032</td>\n",
       "      <td>1.000</td>\n",
       "      <td>0.195</td>\n",
       "      <td>0.129</td>\n",
       "      <td>-0.173</td>\n",
       "    </tr>\n",
       "    <tr>\n",
       "      <th>Height_m</th>\n",
       "      <td>-0.010</td>\n",
       "      <td>0.527</td>\n",
       "      <td>0.443</td>\n",
       "      <td>0.409</td>\n",
       "      <td>0.354</td>\n",
       "      <td>0.331</td>\n",
       "      <td>0.313</td>\n",
       "      <td>0.225</td>\n",
       "      <td>-0.051</td>\n",
       "      <td>0.326</td>\n",
       "      <td>-0.200</td>\n",
       "      <td>0.041</td>\n",
       "      <td>0.195</td>\n",
       "      <td>1.000</td>\n",
       "      <td>0.661</td>\n",
       "      <td>-0.383</td>\n",
       "    </tr>\n",
       "    <tr>\n",
       "      <th>Weight_kg</th>\n",
       "      <td>0.087</td>\n",
       "      <td>0.536</td>\n",
       "      <td>0.431</td>\n",
       "      <td>0.469</td>\n",
       "      <td>0.477</td>\n",
       "      <td>0.285</td>\n",
       "      <td>0.329</td>\n",
       "      <td>0.109</td>\n",
       "      <td>0.034</td>\n",
       "      <td>0.425</td>\n",
       "      <td>-0.361</td>\n",
       "      <td>0.061</td>\n",
       "      <td>0.129</td>\n",
       "      <td>0.661</td>\n",
       "      <td>1.000</td>\n",
       "      <td>-0.368</td>\n",
       "    </tr>\n",
       "    <tr>\n",
       "      <th>Catch_Rate</th>\n",
       "      <td>-0.075</td>\n",
       "      <td>-0.738</td>\n",
       "      <td>-0.479</td>\n",
       "      <td>-0.525</td>\n",
       "      <td>-0.437</td>\n",
       "      <td>-0.539</td>\n",
       "      <td>-0.513</td>\n",
       "      <td>-0.411</td>\n",
       "      <td>-0.025</td>\n",
       "      <td>-0.319</td>\n",
       "      <td>0.272</td>\n",
       "      <td>-0.254</td>\n",
       "      <td>-0.173</td>\n",
       "      <td>-0.383</td>\n",
       "      <td>-0.368</td>\n",
       "      <td>1.000</td>\n",
       "    </tr>\n",
       "  </tbody>\n",
       "</table>\n",
       "</div>"
      ],
      "text/plain": [
       "                  Number  Total     HP  Attack  Defense  Sp_Atk  Sp_Def  \\\n",
       "Number             1.000  0.160  0.108   0.138    0.121   0.120   0.112   \n",
       "Total              0.160  1.000  0.643   0.704    0.606   0.724   0.707   \n",
       "HP                 0.108  0.643  1.000   0.432    0.229   0.369   0.376   \n",
       "Attack             0.138  0.704  0.432   1.000    0.433   0.335   0.207   \n",
       "Defense            0.121  0.606  0.229   0.433    1.000   0.203   0.484   \n",
       "Sp_Atk             0.120  0.724  0.369   0.335    0.203   1.000   0.493   \n",
       "Sp_Def             0.112  0.707  0.376   0.207    0.484   0.493   1.000   \n",
       "Speed              0.028  0.549  0.170   0.335   -0.009   0.443   0.233   \n",
       "Generation         0.983  0.093  0.072   0.094    0.068   0.070   0.055   \n",
       "isLegendary        0.135  0.482  0.259   0.303    0.274   0.410   0.360   \n",
       "hasGender         -0.100 -0.386 -0.155  -0.197   -0.269  -0.337  -0.337   \n",
       "Pr_Male           -0.013  0.114 -0.067   0.214    0.064   0.106   0.018   \n",
       "hasMegaEvolution  -0.118  0.229  0.094   0.204    0.123   0.176   0.150   \n",
       "Height_m          -0.010  0.527  0.443   0.409    0.354   0.331   0.313   \n",
       "Weight_kg          0.087  0.536  0.431   0.469    0.477   0.285   0.329   \n",
       "Catch_Rate        -0.075 -0.738 -0.479  -0.525   -0.437  -0.539  -0.513   \n",
       "\n",
       "                  Speed  Generation  isLegendary  hasGender  Pr_Male  \\\n",
       "Number            0.028       0.983        0.135     -0.100   -0.013   \n",
       "Total             0.549       0.093        0.482     -0.386    0.114   \n",
       "HP                0.170       0.072        0.259     -0.155   -0.067   \n",
       "Attack            0.335       0.094        0.303     -0.197    0.214   \n",
       "Defense          -0.009       0.068        0.274     -0.269    0.064   \n",
       "Sp_Atk            0.443       0.070        0.410     -0.337    0.106   \n",
       "Sp_Def            0.233       0.055        0.360     -0.337    0.018   \n",
       "Speed             1.000       0.004        0.286     -0.217    0.070   \n",
       "Generation        0.004       1.000        0.072     -0.030    0.011   \n",
       "isLegendary       0.286       0.072        1.000     -0.645    0.095   \n",
       "hasGender        -0.217      -0.030       -0.645      1.000      nan   \n",
       "Pr_Male           0.070       0.011        0.095        nan    1.000   \n",
       "hasMegaEvolution  0.148      -0.125        0.048      0.017    0.032   \n",
       "Height_m          0.225      -0.051        0.326     -0.200    0.041   \n",
       "Weight_kg         0.109       0.034        0.425     -0.361    0.061   \n",
       "Catch_Rate       -0.411      -0.025       -0.319      0.272   -0.254   \n",
       "\n",
       "                  hasMegaEvolution  Height_m  Weight_kg  Catch_Rate  \n",
       "Number                      -0.118    -0.010      0.087      -0.075  \n",
       "Total                        0.229     0.527      0.536      -0.738  \n",
       "HP                           0.094     0.443      0.431      -0.479  \n",
       "Attack                       0.204     0.409      0.469      -0.525  \n",
       "Defense                      0.123     0.354      0.477      -0.437  \n",
       "Sp_Atk                       0.176     0.331      0.285      -0.539  \n",
       "Sp_Def                       0.150     0.313      0.329      -0.513  \n",
       "Speed                        0.148     0.225      0.109      -0.411  \n",
       "Generation                  -0.125    -0.051      0.034      -0.025  \n",
       "isLegendary                  0.048     0.326      0.425      -0.319  \n",
       "hasGender                    0.017    -0.200     -0.361       0.272  \n",
       "Pr_Male                      0.032     0.041      0.061      -0.254  \n",
       "hasMegaEvolution             1.000     0.195      0.129      -0.173  \n",
       "Height_m                     0.195     1.000      0.661      -0.383  \n",
       "Weight_kg                    0.129     0.661      1.000      -0.368  \n",
       "Catch_Rate                  -0.173    -0.383     -0.368       1.000  "
      ]
     },
     "execution_count": 21,
     "metadata": {},
     "output_type": "execute_result"
    }
   ],
   "source": [
    "df.corr()"
   ]
  },
  {
   "cell_type": "code",
   "execution_count": 22,
   "metadata": {},
   "outputs": [],
   "source": [
    "#features_names = df.columns\n",
    "#plt.xticks(range(di.shape[1]), feature_names)"
   ]
  },
  {
   "cell_type": "code",
   "execution_count": 23,
   "metadata": {},
   "outputs": [],
   "source": [
    "# Feature Importance\n",
    "from sklearn import datasets\n",
    "from sklearn import metrics\n",
    "from sklearn.ensemble import ExtraTreesClassifier"
   ]
  },
  {
   "cell_type": "code",
   "execution_count": 24,
   "metadata": {},
   "outputs": [],
   "source": [
    "indices = np.argsort(di)[::-1]"
   ]
  },
  {
   "cell_type": "code",
   "execution_count": 25,
   "metadata": {},
   "outputs": [
    {
     "name": "stdout",
     "output_type": "stream",
     "text": [
      "[64 32 11 10 27 25 38 28  2 17  6 20  1 12 43  5 30 54 60 53 51 67  3 21\n",
      " 35 23 36 61  4 19 66 13 34 63  0 31 58 18 24 41 56 39 59 44 65  9 48 29\n",
      " 49 46 15 62 47  8 42 57 37 14 16 50 45 22 55 40 68 52 33  7 26]\n"
     ]
    }
   ],
   "source": [
    "print(indices)"
   ]
  },
  {
   "cell_type": "code",
   "execution_count": 26,
   "metadata": {},
   "outputs": [],
   "source": [
    "#di_names = feature_names[di > np.mean(di)]\n",
    "#print(di_names)"
   ]
  },
  {
   "cell_type": "code",
   "execution_count": 27,
   "metadata": {},
   "outputs": [],
   "source": [
    "#import pandas as pd \n",
    "#feature_importances = pd.DataFrame(rfc.feature_importances_, index = df7.columns, columns=['importance']).sort_values('importance', ascending=False)"
   ]
  },
  {
   "cell_type": "code",
   "execution_count": 28,
   "metadata": {},
   "outputs": [],
   "source": [
    "df7 = df2.drop(['Name'], 1)"
   ]
  },
  {
   "cell_type": "code",
   "execution_count": 29,
   "metadata": {},
   "outputs": [
    {
     "data": {
      "text/html": [
       "<div>\n",
       "<style scoped>\n",
       "    .dataframe tbody tr th:only-of-type {\n",
       "        vertical-align: middle;\n",
       "    }\n",
       "\n",
       "    .dataframe tbody tr th {\n",
       "        vertical-align: top;\n",
       "    }\n",
       "\n",
       "    .dataframe thead th {\n",
       "        text-align: right;\n",
       "    }\n",
       "</style>\n",
       "<table border=\"1\" class=\"dataframe\">\n",
       "  <thead>\n",
       "    <tr style=\"text-align: right;\">\n",
       "      <th></th>\n",
       "      <th>Number</th>\n",
       "      <th>Type_1</th>\n",
       "      <th>Type_2</th>\n",
       "      <th>Total</th>\n",
       "      <th>HP</th>\n",
       "      <th>Attack</th>\n",
       "      <th>Defense</th>\n",
       "      <th>Sp_Atk</th>\n",
       "      <th>Sp_Def</th>\n",
       "      <th>Speed</th>\n",
       "      <th>...</th>\n",
       "      <th>Pr_Male</th>\n",
       "      <th>Egg_Group_1</th>\n",
       "      <th>Egg_Group_2</th>\n",
       "      <th>hasMegaEvolution</th>\n",
       "      <th>Height_m</th>\n",
       "      <th>Weight_kg</th>\n",
       "      <th>Catch_Rate</th>\n",
       "      <th>Body_Style</th>\n",
       "      <th>MegaEvolution</th>\n",
       "      <th>Catchrate2</th>\n",
       "    </tr>\n",
       "  </thead>\n",
       "  <tbody>\n",
       "    <tr>\n",
       "      <th>0</th>\n",
       "      <td>1</td>\n",
       "      <td>Grass</td>\n",
       "      <td>Poison</td>\n",
       "      <td>318</td>\n",
       "      <td>45</td>\n",
       "      <td>49</td>\n",
       "      <td>49</td>\n",
       "      <td>65</td>\n",
       "      <td>65</td>\n",
       "      <td>45</td>\n",
       "      <td>...</td>\n",
       "      <td>0.875</td>\n",
       "      <td>Monster</td>\n",
       "      <td>Grass</td>\n",
       "      <td>False</td>\n",
       "      <td>0.710</td>\n",
       "      <td>6.900</td>\n",
       "      <td>45</td>\n",
       "      <td>quadruped</td>\n",
       "      <td>0</td>\n",
       "      <td>0</td>\n",
       "    </tr>\n",
       "    <tr>\n",
       "      <th>1</th>\n",
       "      <td>2</td>\n",
       "      <td>Grass</td>\n",
       "      <td>Poison</td>\n",
       "      <td>405</td>\n",
       "      <td>60</td>\n",
       "      <td>62</td>\n",
       "      <td>63</td>\n",
       "      <td>80</td>\n",
       "      <td>80</td>\n",
       "      <td>60</td>\n",
       "      <td>...</td>\n",
       "      <td>0.875</td>\n",
       "      <td>Monster</td>\n",
       "      <td>Grass</td>\n",
       "      <td>False</td>\n",
       "      <td>0.990</td>\n",
       "      <td>13.000</td>\n",
       "      <td>45</td>\n",
       "      <td>quadruped</td>\n",
       "      <td>0</td>\n",
       "      <td>0</td>\n",
       "    </tr>\n",
       "    <tr>\n",
       "      <th>2</th>\n",
       "      <td>3</td>\n",
       "      <td>Grass</td>\n",
       "      <td>Poison</td>\n",
       "      <td>525</td>\n",
       "      <td>80</td>\n",
       "      <td>82</td>\n",
       "      <td>83</td>\n",
       "      <td>100</td>\n",
       "      <td>100</td>\n",
       "      <td>80</td>\n",
       "      <td>...</td>\n",
       "      <td>0.875</td>\n",
       "      <td>Monster</td>\n",
       "      <td>Grass</td>\n",
       "      <td>True</td>\n",
       "      <td>2.010</td>\n",
       "      <td>100.000</td>\n",
       "      <td>45</td>\n",
       "      <td>quadruped</td>\n",
       "      <td>1</td>\n",
       "      <td>0</td>\n",
       "    </tr>\n",
       "    <tr>\n",
       "      <th>5</th>\n",
       "      <td>6</td>\n",
       "      <td>Fire</td>\n",
       "      <td>Flying</td>\n",
       "      <td>534</td>\n",
       "      <td>78</td>\n",
       "      <td>84</td>\n",
       "      <td>78</td>\n",
       "      <td>109</td>\n",
       "      <td>85</td>\n",
       "      <td>100</td>\n",
       "      <td>...</td>\n",
       "      <td>0.875</td>\n",
       "      <td>Monster</td>\n",
       "      <td>Dragon</td>\n",
       "      <td>True</td>\n",
       "      <td>1.700</td>\n",
       "      <td>90.500</td>\n",
       "      <td>45</td>\n",
       "      <td>bipedal_tailed</td>\n",
       "      <td>1</td>\n",
       "      <td>0</td>\n",
       "    </tr>\n",
       "    <tr>\n",
       "      <th>33</th>\n",
       "      <td>34</td>\n",
       "      <td>Poison</td>\n",
       "      <td>Ground</td>\n",
       "      <td>505</td>\n",
       "      <td>81</td>\n",
       "      <td>102</td>\n",
       "      <td>77</td>\n",
       "      <td>85</td>\n",
       "      <td>75</td>\n",
       "      <td>85</td>\n",
       "      <td>...</td>\n",
       "      <td>1.000</td>\n",
       "      <td>Monster</td>\n",
       "      <td>Field</td>\n",
       "      <td>False</td>\n",
       "      <td>1.400</td>\n",
       "      <td>62.000</td>\n",
       "      <td>45</td>\n",
       "      <td>bipedal_tailed</td>\n",
       "      <td>0</td>\n",
       "      <td>0</td>\n",
       "    </tr>\n",
       "  </tbody>\n",
       "</table>\n",
       "<p>5 rows × 24 columns</p>\n",
       "</div>"
      ],
      "text/plain": [
       "    Number  Type_1  Type_2  Total  HP  Attack  Defense  Sp_Atk  Sp_Def  Speed  \\\n",
       "0        1   Grass  Poison    318  45      49       49      65      65     45   \n",
       "1        2   Grass  Poison    405  60      62       63      80      80     60   \n",
       "2        3   Grass  Poison    525  80      82       83     100     100     80   \n",
       "5        6    Fire  Flying    534  78      84       78     109      85    100   \n",
       "33      34  Poison  Ground    505  81     102       77      85      75     85   \n",
       "\n",
       "       ...      Pr_Male  Egg_Group_1 Egg_Group_2  hasMegaEvolution  Height_m  \\\n",
       "0      ...        0.875      Monster       Grass             False     0.710   \n",
       "1      ...        0.875      Monster       Grass             False     0.990   \n",
       "2      ...        0.875      Monster       Grass              True     2.010   \n",
       "5      ...        0.875      Monster      Dragon              True     1.700   \n",
       "33     ...        1.000      Monster       Field             False     1.400   \n",
       "\n",
       "   Weight_kg Catch_Rate      Body_Style  MegaEvolution  Catchrate2  \n",
       "0      6.900         45       quadruped              0           0  \n",
       "1     13.000         45       quadruped              0           0  \n",
       "2    100.000         45       quadruped              1           0  \n",
       "5     90.500         45  bipedal_tailed              1           0  \n",
       "33    62.000         45  bipedal_tailed              0           0  \n",
       "\n",
       "[5 rows x 24 columns]"
      ]
     },
     "execution_count": 29,
     "metadata": {},
     "output_type": "execute_result"
    }
   ],
   "source": [
    "df7.head()"
   ]
  },
  {
   "cell_type": "markdown",
   "metadata": {},
   "source": [
    "## Graphs"
   ]
  },
  {
   "cell_type": "code",
   "execution_count": 30,
   "metadata": {},
   "outputs": [
    {
     "data": {
      "image/png": "[encoded data removed]",
      "text/plain": [
       "<matplotlib.figure.Figure at 0x2430bd0e8d0>"
      ]
     },
     "metadata": {},
     "output_type": "display_data"
    }
   ],
   "source": [
    "sns.lmplot(y='Catchrate2', x='MegaEvolution', data=df2, fit_reg=True)\n",
    "plt.show()"
   ]
  },
  {
   "cell_type": "code",
   "execution_count": 31,
   "metadata": {},
   "outputs": [
    {
     "data": {
      "image/png": "[encoded data removed]",
      "text/plain": [
       "<matplotlib.figure.Figure at 0x2430b96fb00>"
      ]
     },
     "metadata": {},
     "output_type": "display_data"
    }
   ],
   "source": [
    "sns.set(style='darkgrid')\n",
    "df6= sns.boxplot(x='hasMegaEvolution', y='Catch_Rate', data=df2, palette='BuPu') \n",
    "#plt.title('')\n",
    "plt.show()"
   ]
  },
  {
   "cell_type": "code",
   "execution_count": 32,
   "metadata": {},
   "outputs": [
    {
     "data": {
      "image/png": "[encoded data removed]",
      "text/plain": [
       "<matplotlib.figure.Figure at 0x2430bdca828>"
      ]
     },
     "metadata": {},
     "output_type": "display_data"
    }
   ],
   "source": [
    "sns.set(style='darkgrid')\n",
    "df6= sns.boxplot(x='isLegendary', y='Catch_Rate', data=df2, palette='BuPu') \n",
    "#plt.title('')\n",
    "plt.show()"
   ]
  },
  {
   "cell_type": "code",
   "execution_count": 53,
   "metadata": {},
   "outputs": [
    {
     "data": {
      "image/png": "[encoded data removed]",
      "text/plain": [
       "<matplotlib.figure.Figure at 0x2430c47eac8>"
      ]
     },
     "metadata": {},
     "output_type": "display_data"
    }
   ],
   "source": [
    "sns.set(style='darkgrid')\n",
    "df6= sns.boxplot(x='Color', y='Catch_Rate', data=df2, palette='Blues') \n",
    "#plt.title('')\n",
    "plt.show()"
   ]
  },
  {
   "cell_type": "code",
   "execution_count": 37,
   "metadata": {},
   "outputs": [
    {
     "data": {
      "image/png": "[encoded data removed]",
      "text/plain": [
       "<matplotlib.figure.Figure at 0x2430be66470>"
      ]
     },
     "metadata": {},
     "output_type": "display_data"
    },
    {
     "data": {
      "image/png": "[encoded data removed]",
      "text/plain": [
       "<matplotlib.figure.Figure at 0x2430be997b8>"
      ]
     },
     "metadata": {},
     "output_type": "display_data"
    },
    {
     "data": {
      "image/png": "[encoded data removed]",
      "text/plain": [
       "<matplotlib.figure.Figure at 0x2430be070f0>"
      ]
     },
     "metadata": {},
     "output_type": "display_data"
    }
   ],
   "source": [
    "sns.set(style='darkgrid')\n",
    "df4 = sns.factorplot(y='Catch_Rate', x='Type_1', data=df2, size=10, kind='bar', palette='Spectral')\n",
    "df4.despine(left=True)\n",
    "df4.set_xlabels('Pokemon_Type')\n",
    "df4.set_ylabels('Catch_Rate')\n",
    "#plt.title('Catch Rate Based on Pokemon Type')\n",
    "plt.show()\n",
    "\n",
    "sns.set(style='darkgrid')\n",
    "df4 = sns.factorplot(x='Catch_Rate', y='Type_1', data=df2, size=10, kind='bar', palette='Spectral')\n",
    "df4.despine(left=True)\n",
    "df4.set_ylabels('Pokemon_Type')\n",
    "df4.set_xlabels('Catch_Rate')\n",
    "#plt.title('Catch Rate Based on Pokemon Type')\n",
    "plt.show()\n",
    "\n",
    "sns.set(style='darkgrid')\n",
    "df4 = sns.factorplot(x='Catch_Rate', y='Type_2', data=df2, size=10, kind='bar', palette='Spectral')\n",
    "df4.despine(left=True)\n",
    "df4.set_ylabels('Pokemon_Type')\n",
    "df4.set_xlabels('Catch_Rate')\n",
    "#plt.title('Catch Rate Based on Pokemon Type')\n",
    "plt.show()"
   ]
  },
  {
   "cell_type": "code",
   "execution_count": 36,
   "metadata": {},
   "outputs": [
    {
     "data": {
      "image/png": "[encoded data removed]",
      "text/plain": [
       "<matplotlib.figure.Figure at 0x1411ec39470>"
      ]
     },
     "metadata": {},
     "output_type": "display_data"
    },
    {
     "data": {
      "image/png": "[encoded data removed]",
      "text/plain": [
       "<matplotlib.figure.Figure at 0x1411f047358>"
      ]
     },
     "metadata": {},
     "output_type": "display_data"
    },
    {
     "data": {
      "image/png": "[encoded data removed]",
      "text/plain": [
       "<matplotlib.figure.Figure at 0x1411f335ef0>"
      ]
     },
     "metadata": {},
     "output_type": "display_data"
    }
   ],
   "source": [
    "sns.set(style='darkgrid')\n",
    "df4 = sns.factorplot(y='Catch_Rate', x='Egg_Group_1', data=df2, size=10, kind='bar', palette='Spectral')\n",
    "df4.despine(left=True)\n",
    "df4.set_xlabels('Egg_Group')\n",
    "df4.set_ylabels('Catch_Rate')\n",
    "#plt.title('Catch Rate Based on Egg Group')\n",
    "plt.show()\n",
    "\n",
    "sns.set(style='darkgrid')\n",
    "df4 = sns.factorplot(x='Catch_Rate', y='Egg_Group_1', data=df2, size=10, kind='bar', palette='Spectral')\n",
    "df4.despine(left=True)\n",
    "df4.set_ylabels('Egg_Group')\n",
    "df4.set_xlabels('Catch_Rate')\n",
    "#plt.title('Catch Rate Based on Egg Group')\n",
    "plt.show()\n",
    "\n",
    "sns.set(style='darkgrid')\n",
    "df4 = sns.factorplot(x='Catch_Rate', y='Egg_Group_2', data=df2, size=10, kind='bar', palette='Spectral')\n",
    "df4.despine(left=True)\n",
    "df4.set_ylabels('Egg_Group')\n",
    "df4.set_xlabels('Catch_Rate')\n",
    "#plt.title('Catch Rate Based on Egg Group')\n",
    "plt.show()"
   ]
  },
  {
   "cell_type": "code",
   "execution_count": 38,
   "metadata": {
    "scrolled": true
   },
   "outputs": [
    {
     "data": {
      "image/png": "[encoded data removed]",
      "text/plain": [
       "<matplotlib.figure.Figure at 0x2430c303668>"
      ]
     },
     "metadata": {},
     "output_type": "display_data"
    }
   ],
   "source": [
    "df5 = sns.lmplot(y='Catch_Rate', x='Total', data=df2, fit_reg=True)\n",
    "df5.set_ylabels('Catch_Rate')\n",
    "df5.set_xlabels('Total Stats')\n",
    "#plt.title('Catch Rate based on Total Stats')\n",
    "plt.show()"
   ]
  },
  {
   "cell_type": "markdown",
   "metadata": {},
   "source": [
    "## Catch Rate Count"
   ]
  },
  {
   "cell_type": "code",
   "execution_count": 39,
   "metadata": {},
   "outputs": [
    {
     "data": {
      "text/plain": [
       "<matplotlib.axes._subplots.AxesSubplot at 0x2430be25ba8>"
      ]
     },
     "execution_count": 39,
     "metadata": {},
     "output_type": "execute_result"
    },
    {
     "data": {
      "image/png": "[encoded data removed]",
      "text/plain": [
       "<matplotlib.figure.Figure at 0x2430c31c5f8>"
      ]
     },
     "metadata": {},
     "output_type": "display_data"
    }
   ],
   "source": [
    "sns.countplot(x='Catch_Rate', data=df2)"
   ]
  },
  {
   "cell_type": "markdown",
   "metadata": {},
   "source": [
    "## T-test"
   ]
  },
  {
   "cell_type": "code",
   "execution_count": 40,
   "metadata": {
    "scrolled": true
   },
   "outputs": [
    {
     "data": {
      "text/plain": [
       "Ttest_indResult(statistic=-28.9782688370252, pvalue=6.9472948827642514e-74)"
      ]
     },
     "execution_count": 40,
     "metadata": {},
     "output_type": "execute_result"
    }
   ],
   "source": [
    "stats.ttest_ind(df2['Catch_Rate'], df2['Total'])"
   ]
  },
  {
   "cell_type": "code",
   "execution_count": 41,
   "metadata": {},
   "outputs": [
    {
     "data": {
      "text/plain": [
       "Ttest_indResult(statistic=3.5680646906594466, pvalue=0.00044918146223215337)"
      ]
     },
     "execution_count": 41,
     "metadata": {},
     "output_type": "execute_result"
    }
   ],
   "source": [
    "stats.ttest_ind(df2['Catch_Rate'], df2['HP'])"
   ]
  },
  {
   "cell_type": "code",
   "execution_count": 42,
   "metadata": {},
   "outputs": [
    {
     "data": {
      "text/plain": [
       "Ttest_indResult(statistic=2.548385168082947, pvalue=0.011565452093331985)"
      ]
     },
     "execution_count": 42,
     "metadata": {},
     "output_type": "execute_result"
    }
   ],
   "source": [
    "stats.ttest_ind(df2['Catch_Rate'], df2['Attack'])"
   ]
  },
  {
   "cell_type": "code",
   "execution_count": 43,
   "metadata": {},
   "outputs": [
    {
     "data": {
      "text/plain": [
       "Ttest_indResult(statistic=2.7379890360199592, pvalue=0.0067336197984985535)"
      ]
     },
     "execution_count": 43,
     "metadata": {},
     "output_type": "execute_result"
    }
   ],
   "source": [
    "stats.ttest_ind(df2['Catch_Rate'], df2['Defense'])"
   ]
  },
  {
   "cell_type": "code",
   "execution_count": 44,
   "metadata": {},
   "outputs": [
    {
     "data": {
      "text/plain": [
       "Ttest_indResult(statistic=3.6247702097347037, pvalue=0.000366043374590726)"
      ]
     },
     "execution_count": 44,
     "metadata": {},
     "output_type": "execute_result"
    }
   ],
   "source": [
    "stats.ttest_ind(df2['Catch_Rate'], df2['Sp_Atk'])"
   ]
  },
  {
   "cell_type": "code",
   "execution_count": 45,
   "metadata": {},
   "outputs": [
    {
     "data": {
      "text/plain": [
       "Ttest_indResult(statistic=3.5227364790782802, pvalue=0.0005280849773564675)"
      ]
     },
     "execution_count": 45,
     "metadata": {},
     "output_type": "execute_result"
    }
   ],
   "source": [
    "stats.ttest_ind(df2['Catch_Rate'], df2['Sp_Def'])"
   ]
  },
  {
   "cell_type": "code",
   "execution_count": 46,
   "metadata": {},
   "outputs": [
    {
     "data": {
      "text/plain": [
       "Ttest_indResult(statistic=4.868106443533865, pvalue=2.268096492132681e-06)"
      ]
     },
     "execution_count": 46,
     "metadata": {},
     "output_type": "execute_result"
    }
   ],
   "source": [
    "stats.ttest_ind(df2['Catch_Rate'], df2['Speed'])"
   ]
  },
  {
   "cell_type": "code",
   "execution_count": 47,
   "metadata": {},
   "outputs": [
    {
     "data": {
      "text/plain": [
       "Ttest_indResult(statistic=14.281587750746244, pvalue=1.9027686428111475e-32)"
      ]
     },
     "execution_count": 47,
     "metadata": {},
     "output_type": "execute_result"
    }
   ],
   "source": [
    "stats.ttest_ind(df2['Catch_Rate'], df2['Height_m'])"
   ]
  },
  {
   "cell_type": "code",
   "execution_count": 48,
   "metadata": {},
   "outputs": [
    {
     "data": {
      "text/plain": [
       "Ttest_indResult(statistic=4.41901869915034, pvalue=1.616571871598089e-05)"
      ]
     },
     "execution_count": 48,
     "metadata": {},
     "output_type": "execute_result"
    }
   ],
   "source": [
    "stats.ttest_ind(df2['Catch_Rate'], df2['Weight_kg'])"
   ]
  },
  {
   "cell_type": "code",
   "execution_count": 49,
   "metadata": {},
   "outputs": [
    {
     "data": {
      "text/plain": [
       "Ttest_indResult(statistic=3.9331438129268244, pvalue=0.00011522589389600649)"
      ]
     },
     "execution_count": 49,
     "metadata": {},
     "output_type": "execute_result"
    }
   ],
   "source": [
    "stats.ttest_ind(df2['Catchrate2'], df2['MegaEvolution'])"
   ]
  },
  {
   "cell_type": "code",
   "execution_count": null,
   "metadata": {},
   "outputs": [],
   "source": []
  }
 ],
 "metadata": {
  "kernelspec": {
   "display_name": "Python 3",
   "language": "python",
   "name": "python3"
  },
  "language_info": {
   "codemirror_mode": {
    "name": "ipython",
    "version": 3
   },
   "file_extension": ".py",
   "mimetype": "text/x-python",
   "name": "python",
   "nbconvert_exporter": "python",
   "pygments_lexer": "ipython3",
   "version": "3.6.4"
  }
 },
 "nbformat": 4,
 "nbformat_minor": 2
}
