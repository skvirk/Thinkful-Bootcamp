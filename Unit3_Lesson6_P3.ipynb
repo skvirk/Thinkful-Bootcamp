{
 "cells": [
  {
   "cell_type": "code",
   "execution_count": 1,
   "metadata": {},
   "outputs": [],
   "source": [
    "import pandas as pd\n",
    "import numpy as np\n",
    "import matplotlib.pyplot as plt\n",
    "from scipy import stats\n",
    "import math\n",
    "%matplotlib inline\n",
    "from sklearn import preprocessing\n",
    "import statsmodels.formula.api as smf\n",
    "from sklearn import datasets, linear_model\n",
    "from sklearn.metrics import mean_squared_error, r2_score\n",
    "\n",
    "pd.options.display.float_format = '{:.3f}'.format"
   ]
  },
  {
   "cell_type": "code",
   "execution_count": 2,
   "metadata": {},
   "outputs": [],
   "source": [
    "df = pd.read_csv('C:\\\\Users\\\\cocob\\\\Downloads\\\\ratings_Amazon_Instant_Video.csv')"
   ]
  },
  {
   "cell_type": "code",
   "execution_count": 3,
   "metadata": {},
   "outputs": [
    {
     "data": {
      "text/html": [
       "<div>\n",
       "<style scoped>\n",
       "    .dataframe tbody tr th:only-of-type {\n",
       "        vertical-align: middle;\n",
       "    }\n",
       "\n",
       "    .dataframe tbody tr th {\n",
       "        vertical-align: top;\n",
       "    }\n",
       "\n",
       "    .dataframe thead th {\n",
       "        text-align: right;\n",
       "    }\n",
       "</style>\n",
       "<table border=\"1\" class=\"dataframe\">\n",
       "  <thead>\n",
       "    <tr style=\"text-align: right;\">\n",
       "      <th></th>\n",
       "      <th>A1EE2E3N7PW666</th>\n",
       "      <th>B000GFDAUG</th>\n",
       "      <th>5.0</th>\n",
       "      <th>1202256000</th>\n",
       "    </tr>\n",
       "  </thead>\n",
       "  <tbody>\n",
       "    <tr>\n",
       "      <th>0</th>\n",
       "      <td>AGZ8SM1BGK3CK</td>\n",
       "      <td>B000GFDAUG</td>\n",
       "      <td>5.000</td>\n",
       "      <td>1198195200</td>\n",
       "    </tr>\n",
       "    <tr>\n",
       "      <th>1</th>\n",
       "      <td>A2VHZ21245KBT7</td>\n",
       "      <td>B000GIOPK2</td>\n",
       "      <td>4.000</td>\n",
       "      <td>1215388800</td>\n",
       "    </tr>\n",
       "    <tr>\n",
       "      <th>2</th>\n",
       "      <td>ACX8YW2D5EGP6</td>\n",
       "      <td>B000GIOPK2</td>\n",
       "      <td>4.000</td>\n",
       "      <td>1185840000</td>\n",
       "    </tr>\n",
       "    <tr>\n",
       "      <th>3</th>\n",
       "      <td>A9RNMO9MUSMTJ</td>\n",
       "      <td>B000GIOPK2</td>\n",
       "      <td>2.000</td>\n",
       "      <td>1281052800</td>\n",
       "    </tr>\n",
       "    <tr>\n",
       "      <th>4</th>\n",
       "      <td>A3STFVPM8NHJ7B</td>\n",
       "      <td>B000GIOPK2</td>\n",
       "      <td>5.000</td>\n",
       "      <td>1203897600</td>\n",
       "    </tr>\n",
       "  </tbody>\n",
       "</table>\n",
       "</div>"
      ],
      "text/plain": [
       "   A1EE2E3N7PW666  B000GFDAUG   5.0  1202256000\n",
       "0   AGZ8SM1BGK3CK  B000GFDAUG 5.000  1198195200\n",
       "1  A2VHZ21245KBT7  B000GIOPK2 4.000  1215388800\n",
       "2   ACX8YW2D5EGP6  B000GIOPK2 4.000  1185840000\n",
       "3   A9RNMO9MUSMTJ  B000GIOPK2 2.000  1281052800\n",
       "4  A3STFVPM8NHJ7B  B000GIOPK2 5.000  1203897600"
      ]
     },
     "execution_count": 3,
     "metadata": {},
     "output_type": "execute_result"
    }
   ],
   "source": [
    "df.head()"
   ]
  },
  {
   "cell_type": "code",
   "execution_count": 5,
   "metadata": {},
   "outputs": [
    {
     "data": {
      "text/plain": [
       "LinearRegression(copy_X=True, fit_intercept=True, n_jobs=1, normalize=False)"
      ]
     },
     "execution_count": 5,
     "metadata": {},
     "output_type": "execute_result"
    }
   ],
   "source": [
    "regr = linear_model.LinearRegression()\n",
    "Y = df['5.0']\n",
    "X = df[['1202256000']]\n",
    "regr.fit(X, Y)"
   ]
  },
  {
   "cell_type": "code",
   "execution_count": 6,
   "metadata": {},
   "outputs": [
    {
     "name": "stdout",
     "output_type": "stream",
     "text": [
      "\n",
      "Coefficients: \n",
      " [9.5019312e-10]\n",
      "\n",
      "Intercept: \n",
      " 3.007634702784857\n",
      "\n",
      "R-squared:\n",
      "0.0007073001248548705\n"
     ]
    }
   ],
   "source": [
    "print('\\nCoefficients: \\n', regr.coef_)\n",
    "print('\\nIntercept: \\n', regr.intercept_)\n",
    "print('\\nR-squared:')\n",
    "print(regr.score(X, Y))"
   ]
  },
  {
   "cell_type": "code",
   "execution_count": null,
   "metadata": {},
   "outputs": [],
   "source": []
  }
 ],
 "metadata": {
  "kernelspec": {
   "display_name": "Python 3",
   "language": "python",
   "name": "python3"
  },
  "language_info": {
   "codemirror_mode": {
    "name": "ipython",
    "version": 3
   },
   "file_extension": ".py",
   "mimetype": "text/x-python",
   "name": "python",
   "nbconvert_exporter": "python",
   "pygments_lexer": "ipython3",
   "version": "3.6.4"
  }
 },
 "nbformat": 4,
 "nbformat_minor": 2
}
