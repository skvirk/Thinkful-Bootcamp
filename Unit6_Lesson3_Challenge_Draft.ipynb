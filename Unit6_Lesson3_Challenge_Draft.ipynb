{
 "cells": [
  {
   "cell_type": "code",
   "execution_count": 1,
   "metadata": {},
   "outputs": [],
   "source": [
    "import numpy as np\n",
    "import pandas as pd\n",
    "import matplotlib.pyplot as plt\n",
    "%matplotlib inline"
   ]
  },
  {
   "cell_type": "code",
   "execution_count": 7,
   "metadata": {},
   "outputs": [
    {
     "data": {
      "text/html": [
       "<div>\n",
       "<style scoped>\n",
       "    .dataframe tbody tr th:only-of-type {\n",
       "        vertical-align: middle;\n",
       "    }\n",
       "\n",
       "    .dataframe tbody tr th {\n",
       "        vertical-align: top;\n",
       "    }\n",
       "\n",
       "    .dataframe thead th {\n",
       "        text-align: right;\n",
       "    }\n",
       "</style>\n",
       "<table border=\"1\" class=\"dataframe\">\n",
       "  <thead>\n",
       "    <tr style=\"text-align: right;\">\n",
       "      <th></th>\n",
       "      <th>Unnamed: 0</th>\n",
       "      <th>Symbol</th>\n",
       "      <th>Open</th>\n",
       "      <th>High</th>\n",
       "      <th>Low</th>\n",
       "      <th>Close</th>\n",
       "      <th>Volume</th>\n",
       "      <th>Market Cap</th>\n",
       "    </tr>\n",
       "    <tr>\n",
       "      <th>Date</th>\n",
       "      <th></th>\n",
       "      <th></th>\n",
       "      <th></th>\n",
       "      <th></th>\n",
       "      <th></th>\n",
       "      <th></th>\n",
       "      <th></th>\n",
       "      <th></th>\n",
       "    </tr>\n",
       "  </thead>\n",
       "  <tbody>\n",
       "    <tr>\n",
       "      <th>2015-12-11</th>\n",
       "      <td>29</td>\n",
       "      <td>$$$</td>\n",
       "      <td>0.000050</td>\n",
       "      <td>0.000050</td>\n",
       "      <td>0.000022</td>\n",
       "      <td>0.000027</td>\n",
       "      <td>1.0</td>\n",
       "      <td>2287.0</td>\n",
       "    </tr>\n",
       "    <tr>\n",
       "      <th>2015-12-12</th>\n",
       "      <td>30</td>\n",
       "      <td>$$$</td>\n",
       "      <td>0.000027</td>\n",
       "      <td>0.000044</td>\n",
       "      <td>0.000021</td>\n",
       "      <td>0.000043</td>\n",
       "      <td>0.0</td>\n",
       "      <td>1245.0</td>\n",
       "    </tr>\n",
       "    <tr>\n",
       "      <th>2015-12-13</th>\n",
       "      <td>31</td>\n",
       "      <td>$$$</td>\n",
       "      <td>0.000043</td>\n",
       "      <td>0.000044</td>\n",
       "      <td>0.000022</td>\n",
       "      <td>0.000022</td>\n",
       "      <td>2.0</td>\n",
       "      <td>1996.0</td>\n",
       "    </tr>\n",
       "    <tr>\n",
       "      <th>2015-12-14</th>\n",
       "      <td>32</td>\n",
       "      <td>$$$</td>\n",
       "      <td>0.000022</td>\n",
       "      <td>0.000022</td>\n",
       "      <td>0.000022</td>\n",
       "      <td>0.000022</td>\n",
       "      <td>3.0</td>\n",
       "      <td>994.0</td>\n",
       "    </tr>\n",
       "    <tr>\n",
       "      <th>2015-12-15</th>\n",
       "      <td>33</td>\n",
       "      <td>$$$</td>\n",
       "      <td>0.000022</td>\n",
       "      <td>0.000023</td>\n",
       "      <td>0.000022</td>\n",
       "      <td>0.000023</td>\n",
       "      <td>2.0</td>\n",
       "      <td>1018.0</td>\n",
       "    </tr>\n",
       "  </tbody>\n",
       "</table>\n",
       "</div>"
      ],
      "text/plain": [
       "            Unnamed: 0 Symbol      Open      High       Low     Close  Volume  \\\n",
       "Date                                                                            \n",
       "2015-12-11          29    $$$  0.000050  0.000050  0.000022  0.000027     1.0   \n",
       "2015-12-12          30    $$$  0.000027  0.000044  0.000021  0.000043     0.0   \n",
       "2015-12-13          31    $$$  0.000043  0.000044  0.000022  0.000022     2.0   \n",
       "2015-12-14          32    $$$  0.000022  0.000022  0.000022  0.000022     3.0   \n",
       "2015-12-15          33    $$$  0.000022  0.000023  0.000022  0.000023     2.0   \n",
       "\n",
       "            Market Cap  \n",
       "Date                    \n",
       "2015-12-11      2287.0  \n",
       "2015-12-12      1245.0  \n",
       "2015-12-13      1996.0  \n",
       "2015-12-14       994.0  \n",
       "2015-12-15      1018.0  "
      ]
     },
     "execution_count": 7,
     "metadata": {},
     "output_type": "execute_result"
    }
   ],
   "source": [
    "econ_data = pd.read_csv('C:\\\\Users\\\\cocob\\\\Downloads\\\\all_currencies.csv')\n",
    "econ_data.set_index(econ_data['Date'], inplace=True)\n",
    "del econ_data['Date']\n",
    "\n",
    "#Annualize our unemployment delta by multiplying by 4 (a crude but sufficient method for here)\n",
    "#econ_data['Unemployment_chg'] = econ_data.Unemployment.diff()*4\n",
    "econ_data.dropna(inplace=True)\n",
    "\n",
    "econ_data.head()"
   ]
  },
  {
   "cell_type": "code",
   "execution_count": 9,
   "metadata": {},
   "outputs": [
    {
     "name": "stdout",
     "output_type": "stream",
     "text": [
      "coefficients: [0.91381705]\n",
      "intercept: 12.902455230163582\n",
      "score: 0.8634542308079898\n"
     ]
    }
   ],
   "source": [
    "from sklearn.linear_model import LinearRegression\n",
    "lm = LinearRegression()\n",
    "\n",
    "X = pd.DataFrame(econ_data.Open)\n",
    "y = list(econ_data.Close)\n",
    "\n",
    "lm.fit(X,y)\n",
    "print('coefficients: ' + str(lm.coef_))\n",
    "print('intercept: ' + str(lm.intercept_))\n",
    "print('score: ' + str(lm.score(X,y)))"
   ]
  },
  {
   "cell_type": "code",
   "execution_count": 10,
   "metadata": {},
   "outputs": [
    {
     "data": {
      "image/png": "[encoded data removed]",
      "text/plain": [
       "<matplotlib.figure.Figure at 0x25d5d9fd198>"
      ]
     },
     "metadata": {},
     "output_type": "display_data"
    }
   ],
   "source": [
    "econ_data[['Open', 'Close']].plot()\n",
    "plt.show()"
   ]
  },
  {
   "cell_type": "code",
   "execution_count": 12,
   "metadata": {},
   "outputs": [
    {
     "data": {
      "image/png": "[encoded data removed]",
      "text/plain": [
       "<matplotlib.figure.Figure at 0x25d6cd569b0>"
      ]
     },
     "metadata": {},
     "output_type": "display_data"
    }
   ],
   "source": [
    "plt.boxplot([econ_data.Open, econ_data.Close])\n",
    "plt.xticks([1,2], ['Open','Close'])\n",
    "plt.show()"
   ]
  },
  {
   "cell_type": "code",
   "execution_count": 13,
   "metadata": {},
   "outputs": [
    {
     "name": "stdout",
     "output_type": "stream",
     "text": [
      "coefficients: [0.97885912]\n",
      "intercept: 0.0001566002129340944\n",
      "score: 0.8590798854130958\n"
     ]
    }
   ],
   "source": [
    "from sklearn.linear_model import HuberRegressor\n",
    "hr = HuberRegressor()\n",
    "\n",
    "hr.fit(X,y)\n",
    "print('coefficients: ' + str(hr.coef_))\n",
    "print('intercept: ' + str(hr.intercept_))\n",
    "print('score: ' + str(hr.score(X,y)))"
   ]
  },
  {
   "cell_type": "code",
   "execution_count": 14,
   "metadata": {},
   "outputs": [
    {
     "data": {
      "image/png": "[encoded data removed]",
      "text/plain": [
       "<matplotlib.figure.Figure at 0x25d6e76d9e8>"
      ]
     },
     "metadata": {},
     "output_type": "display_data"
    }
   ],
   "source": [
    "robust = [hr.coef_[0] * i + hr.intercept_ for i in range(-6, 10)]\n",
    "linear = [lm.coef_[0] * i + lm.intercept_ for i in range(-6, 10)]\n",
    "\n",
    "plt.scatter(x = econ_data.Open, y = econ_data.Close, label='Raw Data')\n",
    "plt.plot(range(-6,10), robust, label='Robust')\n",
    "plt.plot(range(-6,10), linear, 'r', label='Linear')\n",
    "plt.legend()\n",
    "#plt.title('Economic Growth vs Unemployment Rate Change')\n",
    "plt.xlabel('Open')\n",
    "plt.ylabel('Close')\n",
    "plt.show()"
   ]
  },
  {
   "cell_type": "markdown",
   "metadata": {},
   "source": [
    "Upon examination for the information above, openning and closing values of cryptocurrenies are correlated. The coefficient of 0.9789 indicates openning and closing prices relate to one another. For the most part, Close prices increased or decreased in relation to the Open prices."
   ]
  }
 ],
 "metadata": {
  "kernelspec": {
   "display_name": "Python 3",
   "language": "python",
   "name": "python3"
  },
  "language_info": {
   "codemirror_mode": {
    "name": "ipython",
    "version": 3
   },
   "file_extension": ".py",
   "mimetype": "text/x-python",
   "name": "python",
   "nbconvert_exporter": "python",
   "pygments_lexer": "ipython3",
   "version": "3.6.4"
  }
 },
 "nbformat": 4,
 "nbformat_minor": 2
}
